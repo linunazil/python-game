{
 "cells": [
  {
   "cell_type": "code",
   "execution_count": null,
   "id": "95db8186",
   "metadata": {},
   "outputs": [],
   "source": [
    "print(\n",
    "\"\"\"\n",
    " ▄▄▄▄    ██▓    ▄▄▄       ▄████▄   ██ ▄█▀    ▄▄▄      ▓█████▄  ▄▄▄       ███▄ ▄███▓\n",
    "▓█████▄ ▓██▒   ▒████▄    ▒██▀ ▀█   ██▄█▒    ▒████▄    ▒██▀ ██▌▒████▄    ▓██▒▀█▀ ██▒\n",
    "▒██▒ ▄██▒██░   ▒██  ▀█▄  ▒▓█    ▄ ▓███▄░    ▒██  ▀█▄  ░██   █▌▒██  ▀█▄  ▓██    ▓██░\n",
    "▒██░█▀  ▒██░   ░██▄▄▄▄██ ▒▓▓▄ ▄██▒▓██ █▄    ░██▄▄▄▄██ ░▓█▄   ▌░██▄▄▄▄██ ▒██    ▒██ \n",
    "░▓█  ▀█▓░██████▒▓█   ▓██▒▒ ▓███▀ ░▒██▒ █▄    ▓█   ▓██▒░▒████▓  ▓█   ▓██▒▒██▒   ░██▒\n",
    "░▒▓███▀▒░ ▒░▓  ░▒▒   ▓▒█░░ ░▒ ▒  ░▒ ▒▒ ▓▒    ▒▒   ▓▒█░ ▒▒▓  ▒  ▒▒   ▓▒█░░ ▒░   ░  ░\n",
    "▒░▒   ░ ░ ░ ▒  ░ ▒   ▒▒ ░  ░  ▒   ░ ░▒ ▒░     ▒   ▒▒ ░ ░ ▒  ▒   ▒   ▒▒ ░░  ░      ░\n",
    " ░    ░   ░ ░    ░   ▒   ░        ░ ░░ ░      ░   ▒    ░ ░  ░   ░   ▒   ░      ░   \n",
    " ░          ░  ░     ░  ░░ ░      ░  ░            ░  ░   ░          ░  ░       ░   \n",
    "      ░                  ░                             ░                           \n",
    "\"\"\"\n",
    ")\n",
    "print('\\n\\t|=|=|=|=|=|               Welcome          |=|=|=|=|=|')\n",
    "print('\\n\\t|=|=|=|=|=|                 to             |=|=|=|=|=|')\n",
    "print('\\n\\t|=|=|=|=|=|             BLACK ADAM         |=|=|=|=|=|')\n",
    "print('\\n')\n"
   ]
  },
  {
   "cell_type": "code",
   "execution_count": 2,
   "id": "d1a0c4ea",
   "metadata": {},
   "outputs": [
    {
     "name": "stdout",
     "output_type": "stream",
     "text": [
      "Enter your name: l\n",
      "Hi l, For LEVEL 1 press 1, for LEVEL 2 press 2 and for LEVEL 3 press 31\n",
      "['Villian kicked']\n",
      "Press 1 to punch, press 2 to kick, press 3 to stab, press 4 to block. 1\n",
      "damage! \n",
      "Hero_health is 60\n",
      "Villian_health is 60\n",
      "['Villian punched']\n",
      "Press 1 to punch, press 2 to kick, press 3 to stab, press 4 to block. 1\n",
      "Hero_health is 60\n",
      "Villian_health is 20\n",
      "['Villian blocked']\n",
      "Press 1 to punch, press 2 to kick, press 3 to stab, press 4 to block. 1\n",
      "Sebbac blocked your punch!\n",
      "Hero_health is 60\n",
      "Villian_health is 20\n",
      "['Villian blocked']\n",
      "Press 1 to punch, press 2 to kick, press 3 to stab, press 4 to block. 1\n",
      "Sebbac blocked your punch!\n",
      "Hero_health is 60\n",
      "Villian_health is 20\n",
      "['Villian stabbed']\n",
      "Press 1 to punch, press 2 to kick, press 3 to stab, press 4 to block. 1\n",
      "Hero_health is 60\n",
      "Villian_health is -20\n",
      "You won! \n"
     ]
    }
   ],
   "source": [
    "import random\n",
    "\n",
    "Hero_health = 100\n",
    "Villian_health = 100\n",
    "\n",
    "\n",
    "list1 = [\"Villian punched\", \"Villian kicked\", \"Villian stabbed\", \"Villian blocked\"]\n",
    "\n",
    "\n",
    "name = input(\"Enter your name: \")\n",
    "level = int(input(f\"Hi {name}, For LEVEL 1 press 1, for LEVEL 2 press 2 and for LEVEL 3 press 3\"))\n",
    "if level == 1:\n",
    "    while Hero_health > 0 and Villian_health > 0:\n",
    "        Villian_action = random.sample(list1, 1)\n",
    "        print(Villian_action)\n",
    "        action = int(input(\"Press 1 to punch, press 2 to kick, press 3 to stab, press 4 to block. \"))\n",
    "        if action == 4:\n",
    "            if random.random()<.8:\n",
    "                print(\"Wow! attack blocked! \")\n",
    "                Hero_health = Hero_health\n",
    "                Villian_health = Villian_health\n",
    "            else:\n",
    "                print(\"You took a blow! \")\n",
    "                Hero_health -= 40\n",
    "                Villian_health = Villian_health\n",
    "        elif Villian_action == [\"Villian blocked\"]:\n",
    "            if random.random()<.7:\n",
    "                print(\"Sebbac blocked your punch!\")\n",
    "                Hero_health = Hero_health\n",
    "                Villian_health = Villian_health\n",
    "            else:\n",
    "                print(\"You got him! \")\n",
    "                Hero_health = Hero_health\n",
    "                Villian_health -= 40\n",
    "        else:\n",
    "            if random.random()< .7:\n",
    "                print(\"damage! \")\n",
    "                Hero_health -= 40\n",
    "            random.random()< .7\n",
    "            Villian_health -= 40\n",
    "\n",
    "        print(f\"Hero_health is {Hero_health}\")\n",
    "        print(f\"Villian_health is {Villian_health}\")\n",
    "    else:\n",
    "        if Hero_health <= 0:\n",
    "            print(\"You lost, try again \")\n",
    "        else:\n",
    "            print(\"You won! \")\n",
    "    \n",
    "elif level == 2:\n",
    "    print(\"starting level 2!\")\n",
    "elif level == 3:\n",
    "    print(\"starting level 3!\")\n",
    "else:\n",
    "    print(\"Enter a valid number\")\n",
    "    \n",
    "    \n",
    "    "
   ]
  },
  {
   "cell_type": "code",
   "execution_count": null,
   "id": "cae32ba7",
   "metadata": {},
   "outputs": [],
   "source": [
    "# A player base class\n",
    "class Character:\n",
    "    def __init__(self, name):\n",
    "        self.name = name\n",
    "        self.stamina = 10 # stamina\n",
    "        self.prev_attempts = 0\n",
    "        self.prev_wins = 0\n",
    "\n",
    "        \n",
    "\n",
    "# Subclasses\n",
    "class Hawkman(Character):\n",
    "    def __init__(self, name):\n",
    "        super().__init__(name)\n",
    "        self.stamina = 20 # double stamina than a normal person\n",
    "    \n",
    "\n",
    "class Doctor_Fate(Character):\n",
    "    def __init__(self, name):\n",
    "        super().__init__(name)\n",
    "        self.stamina = 30 # triple stamina than a normal person\n",
    "\n",
    "class Black_Adam(Character):\n",
    "    def __init__(self, name):\n",
    "        super().__init__(name)\n",
    "        self.stamina = 40 # four times stamina than a normal person\n",
    "        \n",
    "class Sebbac(Character):\n",
    "    def __init__(self, name):\n",
    "        super().__init__(name)\n",
    "        self.stamina = "
   ]
  },
  {
   "cell_type": "code",
   "execution_count": 1,
   "id": "6daf30d6",
   "metadata": {},
   "outputs": [],
   "source": [
    "def register():\n",
    "    db = open(\"gamedatabase.txt\", \"r\")\n",
    "    Username = (\"Create username: \")\n",
    "    Password = (\"Create password: \")\n",
    "    Passwordconfirm = (\"Re-enter password: \")\n",
    "    \n",
    "    if Password != Passwordconfirm:\n",
    "        print(\"Password does not match, restart\")\n",
    "        regsiter()\n",
    "    else:\n",
    "        if len(Password)< 6:\n",
    "            print(\"Password too short\")\n",
    "        \n",
    "        \n",
    "    pass\n",
    "def access():\n",
    "    pass\n"
   ]
  },
  {
   "cell_type": "code",
   "execution_count": 2,
   "id": "6d935b7f",
   "metadata": {},
   "outputs": [],
   "source": [
    "import random"
   ]
  },
  {
   "cell_type": "code",
   "execution_count": 3,
   "id": "4ed46b9d",
   "metadata": {},
   "outputs": [
    {
     "data": {
      "text/plain": [
       "True"
      ]
     },
     "execution_count": 3,
     "metadata": {},
     "output_type": "execute_result"
    }
   ],
   "source": [
    "random.random() < 0.8"
   ]
  },
  {
   "cell_type": "code",
   "execution_count": null,
   "id": "b794cc1d",
   "metadata": {},
   "outputs": [],
   "source": []
  },
  {
   "cell_type": "code",
   "execution_count": null,
   "id": "13c71371",
   "metadata": {},
   "outputs": [],
   "source": []
  }
 ],
 "metadata": {
  "kernelspec": {
   "display_name": "Python 3",
   "language": "python",
   "name": "python3"
  },
  "language_info": {
   "codemirror_mode": {
    "name": "ipython",
    "version": 3
   },
   "file_extension": ".py",
   "mimetype": "text/x-python",
   "name": "python",
   "nbconvert_exporter": "python",
   "pygments_lexer": "ipython3",
   "version": "3.9.1"
  }
 },
 "nbformat": 4,
 "nbformat_minor": 5
}
